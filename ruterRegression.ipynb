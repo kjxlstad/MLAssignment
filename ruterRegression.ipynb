{
 "cells": [
  {
   "cell_type": "markdown",
   "metadata": {},
   "source": [
    "# Predicting passengers on a specific date for bus 100"
   ]
  },
  {
   "cell_type": "markdown",
   "metadata": {},
   "source": [
    "### Getting and preparing data"
   ]
  },
  {
   "cell_type": "code",
   "execution_count": 1,
   "metadata": {},
   "outputs": [
    {
     "data": {
      "text/html": [
       "<div>\n",
       "<style scoped>\n",
       "    .dataframe tbody tr th:only-of-type {\n",
       "        vertical-align: middle;\n",
       "    }\n",
       "\n",
       "    .dataframe tbody tr th {\n",
       "        vertical-align: top;\n",
       "    }\n",
       "\n",
       "    .dataframe thead th {\n",
       "        text-align: right;\n",
       "    }\n",
       "</style>\n",
       "<table border=\"1\" class=\"dataframe\">\n",
       "  <thead>\n",
       "    <tr style=\"text-align: right;\">\n",
       "      <th></th>\n",
       "      <th>TurId</th>\n",
       "      <th>Dato</th>\n",
       "      <th>Fylke</th>\n",
       "      <th>Område</th>\n",
       "      <th>Kommune</th>\n",
       "      <th>Holdeplass_Fra</th>\n",
       "      <th>Holdeplass_Til</th>\n",
       "      <th>Linjetype</th>\n",
       "      <th>Linjefylke</th>\n",
       "      <th>Linjenavn</th>\n",
       "      <th>Linjeretning</th>\n",
       "      <th>Tidspunkt_Faktisk_Ankomst_Holdeplass_Fra</th>\n",
       "      <th>Tidspunkt_Faktisk_Avgang_Holdeplass_Fra</th>\n",
       "      <th>Tidspunkt_Planlagt_Ankomst_Holdeplass_Fra</th>\n",
       "      <th>Tidspunkt_Planlagt_Avgang_Holdeplass_Fra</th>\n",
       "      <th>Kjøretøy_Kapasitet</th>\n",
       "      <th>Passasjerer_Ombord</th>\n",
       "    </tr>\n",
       "  </thead>\n",
       "  <tbody>\n",
       "    <tr>\n",
       "      <th>0</th>\n",
       "      <td>15006-2020-08-10T10:24:00+02:00</td>\n",
       "      <td>10/08/2020</td>\n",
       "      <td>Viken</td>\n",
       "      <td>Vest</td>\n",
       "      <td>Bærum</td>\n",
       "      <td>Nordliveien</td>\n",
       "      <td>Tjernsmyr</td>\n",
       "      <td>Lokal</td>\n",
       "      <td>Viken</td>\n",
       "      <td>150</td>\n",
       "      <td>0</td>\n",
       "      <td>10:53:53</td>\n",
       "      <td>10:53:59</td>\n",
       "      <td>10:53:00</td>\n",
       "      <td>10:53:00</td>\n",
       "      <td>112</td>\n",
       "      <td>5</td>\n",
       "    </tr>\n",
       "    <tr>\n",
       "      <th>1</th>\n",
       "      <td>15002-2020-08-15T12:54:00+02:00</td>\n",
       "      <td>15/08/2020</td>\n",
       "      <td>Viken</td>\n",
       "      <td>Vest</td>\n",
       "      <td>Bærum</td>\n",
       "      <td>Nadderud stadion</td>\n",
       "      <td>Bekkestua bussterminal (Plattform C)</td>\n",
       "      <td>Lokal</td>\n",
       "      <td>Viken</td>\n",
       "      <td>150</td>\n",
       "      <td>0</td>\n",
       "      <td>13:12:20</td>\n",
       "      <td>13:12:26</td>\n",
       "      <td>13:12:00</td>\n",
       "      <td>13:12:00</td>\n",
       "      <td>112</td>\n",
       "      <td>5</td>\n",
       "    </tr>\n",
       "    <tr>\n",
       "      <th>2</th>\n",
       "      <td>15004-2020-08-03T09:54:00+02:00</td>\n",
       "      <td>03/08/2020</td>\n",
       "      <td>Viken</td>\n",
       "      <td>Vest</td>\n",
       "      <td>Bærum</td>\n",
       "      <td>Ringstabekkveien</td>\n",
       "      <td>Skallum</td>\n",
       "      <td>Lokal</td>\n",
       "      <td>Viken</td>\n",
       "      <td>150</td>\n",
       "      <td>0</td>\n",
       "      <td>10:18:56</td>\n",
       "      <td>10:19:21</td>\n",
       "      <td>10:19:00</td>\n",
       "      <td>10:19:00</td>\n",
       "      <td>112</td>\n",
       "      <td>6</td>\n",
       "    </tr>\n",
       "    <tr>\n",
       "      <th>3</th>\n",
       "      <td>15003-2020-07-27T13:00:00+02:00</td>\n",
       "      <td>27/07/2020</td>\n",
       "      <td>Viken</td>\n",
       "      <td>Vest</td>\n",
       "      <td>Bærum</td>\n",
       "      <td>Gruvemyra</td>\n",
       "      <td>Gullhaug</td>\n",
       "      <td>Lokal</td>\n",
       "      <td>Viken</td>\n",
       "      <td>150</td>\n",
       "      <td>1</td>\n",
       "      <td>13:52:04</td>\n",
       "      <td>13:52:26</td>\n",
       "      <td>13:51:00</td>\n",
       "      <td>13:51:00</td>\n",
       "      <td>112</td>\n",
       "      <td>10</td>\n",
       "    </tr>\n",
       "    <tr>\n",
       "      <th>4</th>\n",
       "      <td>15002-2020-08-27T07:15:00+02:00</td>\n",
       "      <td>27/08/2020</td>\n",
       "      <td>Viken</td>\n",
       "      <td>Vest</td>\n",
       "      <td>Bærum</td>\n",
       "      <td>Lysaker stasjon (Plattform A)</td>\n",
       "      <td>Tjernsmyr</td>\n",
       "      <td>Lokal</td>\n",
       "      <td>Viken</td>\n",
       "      <td>150</td>\n",
       "      <td>1</td>\n",
       "      <td>07:34:13</td>\n",
       "      <td>07:34:53</td>\n",
       "      <td>07:33:00</td>\n",
       "      <td>07:33:00</td>\n",
       "      <td>112</td>\n",
       "      <td>10</td>\n",
       "    </tr>\n",
       "    <tr>\n",
       "      <th>...</th>\n",
       "      <td>...</td>\n",
       "      <td>...</td>\n",
       "      <td>...</td>\n",
       "      <td>...</td>\n",
       "      <td>...</td>\n",
       "      <td>...</td>\n",
       "      <td>...</td>\n",
       "      <td>...</td>\n",
       "      <td>...</td>\n",
       "      <td>...</td>\n",
       "      <td>...</td>\n",
       "      <td>...</td>\n",
       "      <td>...</td>\n",
       "      <td>...</td>\n",
       "      <td>...</td>\n",
       "      <td>...</td>\n",
       "      <td>...</td>\n",
       "    </tr>\n",
       "    <tr>\n",
       "      <th>5995</th>\n",
       "      <td>10001-2020-06-10T15:10:00+02:00</td>\n",
       "      <td>10/06/2020</td>\n",
       "      <td>Viken</td>\n",
       "      <td>Nordøst</td>\n",
       "      <td>Lillestrøm</td>\n",
       "      <td>Brauterkrysset</td>\n",
       "      <td>Nordsnoveien</td>\n",
       "      <td>Lokal</td>\n",
       "      <td>Viken</td>\n",
       "      <td>100</td>\n",
       "      <td>1</td>\n",
       "      <td>16:23:18</td>\n",
       "      <td>16:23:48</td>\n",
       "      <td>16:10:00</td>\n",
       "      <td>16:10:00</td>\n",
       "      <td>151</td>\n",
       "      <td>2</td>\n",
       "    </tr>\n",
       "    <tr>\n",
       "      <th>5996</th>\n",
       "      <td>10010-2020-06-23T05:54:00+02:00</td>\n",
       "      <td>23/06/2020</td>\n",
       "      <td>Viken</td>\n",
       "      <td>Nordøst</td>\n",
       "      <td>Lillestrøm</td>\n",
       "      <td>Vestbygata</td>\n",
       "      <td>Bjørnsons gate</td>\n",
       "      <td>Lokal</td>\n",
       "      <td>Viken</td>\n",
       "      <td>100</td>\n",
       "      <td>0</td>\n",
       "      <td>06:00:32</td>\n",
       "      <td>06:00:40</td>\n",
       "      <td>05:59:00</td>\n",
       "      <td>05:59:00</td>\n",
       "      <td>151</td>\n",
       "      <td>2</td>\n",
       "    </tr>\n",
       "    <tr>\n",
       "      <th>5997</th>\n",
       "      <td>2007-2020-06-11T17:22:00+02:00</td>\n",
       "      <td>11/06/2020</td>\n",
       "      <td>Oslo</td>\n",
       "      <td>Indre By</td>\n",
       "      <td>Sagene</td>\n",
       "      <td>Torshovparken  (mot Torshovparken)</td>\n",
       "      <td>Torshov  (mot Bentsebrua)</td>\n",
       "      <td>Lokal</td>\n",
       "      <td>Oslo</td>\n",
       "      <td>20</td>\n",
       "      <td>1</td>\n",
       "      <td>17:42:43</td>\n",
       "      <td>17:43:10</td>\n",
       "      <td>17:32:00</td>\n",
       "      <td>17:32:00</td>\n",
       "      <td>106</td>\n",
       "      <td>3</td>\n",
       "    </tr>\n",
       "    <tr>\n",
       "      <th>5998</th>\n",
       "      <td>10004-2020-08-13T04:59:00+02:00</td>\n",
       "      <td>13/08/2020</td>\n",
       "      <td>Oslo</td>\n",
       "      <td>Indre By</td>\n",
       "      <td>Gamle Oslo</td>\n",
       "      <td>Harald Hårdrådes plass  (mot Grønland)</td>\n",
       "      <td>Oslo gate  (mot Grønland)</td>\n",
       "      <td>Lokal</td>\n",
       "      <td>Viken</td>\n",
       "      <td>100</td>\n",
       "      <td>0</td>\n",
       "      <td>06:00:11</td>\n",
       "      <td>06:00:23</td>\n",
       "      <td>05:59:00</td>\n",
       "      <td>05:59:00</td>\n",
       "      <td>151</td>\n",
       "      <td>5</td>\n",
       "    </tr>\n",
       "    <tr>\n",
       "      <th>5999</th>\n",
       "      <td>34013-2020-08-05T13:31:00+02:00</td>\n",
       "      <td>05/08/2020</td>\n",
       "      <td>Viken</td>\n",
       "      <td>Nordøst</td>\n",
       "      <td>Lillestrøm</td>\n",
       "      <td>Tandberg</td>\n",
       "      <td>Selmer</td>\n",
       "      <td>Lokal</td>\n",
       "      <td>Viken</td>\n",
       "      <td>340</td>\n",
       "      <td>1</td>\n",
       "      <td>13:52:44</td>\n",
       "      <td>13:52:48</td>\n",
       "      <td>13:50:00</td>\n",
       "      <td>13:50:00</td>\n",
       "      <td>105</td>\n",
       "      <td>-5</td>\n",
       "    </tr>\n",
       "  </tbody>\n",
       "</table>\n",
       "<p>6000 rows × 17 columns</p>\n",
       "</div>"
      ],
      "text/plain": [
       "                                TurId        Dato  Fylke    Område  \\\n",
       "0     15006-2020-08-10T10:24:00+02:00  10/08/2020  Viken      Vest   \n",
       "1     15002-2020-08-15T12:54:00+02:00  15/08/2020  Viken      Vest   \n",
       "2     15004-2020-08-03T09:54:00+02:00  03/08/2020  Viken      Vest   \n",
       "3     15003-2020-07-27T13:00:00+02:00  27/07/2020  Viken      Vest   \n",
       "4     15002-2020-08-27T07:15:00+02:00  27/08/2020  Viken      Vest   \n",
       "...                               ...         ...    ...       ...   \n",
       "5995  10001-2020-06-10T15:10:00+02:00  10/06/2020  Viken   Nordøst   \n",
       "5996  10010-2020-06-23T05:54:00+02:00  23/06/2020  Viken   Nordøst   \n",
       "5997   2007-2020-06-11T17:22:00+02:00  11/06/2020   Oslo  Indre By   \n",
       "5998  10004-2020-08-13T04:59:00+02:00  13/08/2020   Oslo  Indre By   \n",
       "5999  34013-2020-08-05T13:31:00+02:00  05/08/2020  Viken   Nordøst   \n",
       "\n",
       "         Kommune                          Holdeplass_Fra  \\\n",
       "0          Bærum                             Nordliveien   \n",
       "1          Bærum                        Nadderud stadion   \n",
       "2          Bærum                        Ringstabekkveien   \n",
       "3          Bærum                               Gruvemyra   \n",
       "4          Bærum           Lysaker stasjon (Plattform A)   \n",
       "...          ...                                     ...   \n",
       "5995  Lillestrøm                          Brauterkrysset   \n",
       "5996  Lillestrøm                              Vestbygata   \n",
       "5997      Sagene      Torshovparken  (mot Torshovparken)   \n",
       "5998  Gamle Oslo  Harald Hårdrådes plass  (mot Grønland)   \n",
       "5999  Lillestrøm                                Tandberg   \n",
       "\n",
       "                            Holdeplass_Til Linjetype Linjefylke Linjenavn  \\\n",
       "0                                Tjernsmyr     Lokal      Viken       150   \n",
       "1     Bekkestua bussterminal (Plattform C)     Lokal      Viken       150   \n",
       "2                                  Skallum     Lokal      Viken       150   \n",
       "3                                 Gullhaug     Lokal      Viken       150   \n",
       "4                                Tjernsmyr     Lokal      Viken       150   \n",
       "...                                    ...       ...        ...       ...   \n",
       "5995                          Nordsnoveien     Lokal      Viken       100   \n",
       "5996                        Bjørnsons gate     Lokal      Viken       100   \n",
       "5997             Torshov  (mot Bentsebrua)     Lokal       Oslo        20   \n",
       "5998             Oslo gate  (mot Grønland)     Lokal      Viken       100   \n",
       "5999                                Selmer     Lokal      Viken       340   \n",
       "\n",
       "      Linjeretning Tidspunkt_Faktisk_Ankomst_Holdeplass_Fra  \\\n",
       "0                0                                 10:53:53   \n",
       "1                0                                 13:12:20   \n",
       "2                0                                 10:18:56   \n",
       "3                1                                 13:52:04   \n",
       "4                1                                 07:34:13   \n",
       "...            ...                                      ...   \n",
       "5995             1                                 16:23:18   \n",
       "5996             0                                 06:00:32   \n",
       "5997             1                                 17:42:43   \n",
       "5998             0                                 06:00:11   \n",
       "5999             1                                 13:52:44   \n",
       "\n",
       "     Tidspunkt_Faktisk_Avgang_Holdeplass_Fra  \\\n",
       "0                                   10:53:59   \n",
       "1                                   13:12:26   \n",
       "2                                   10:19:21   \n",
       "3                                   13:52:26   \n",
       "4                                   07:34:53   \n",
       "...                                      ...   \n",
       "5995                                16:23:48   \n",
       "5996                                06:00:40   \n",
       "5997                                17:43:10   \n",
       "5998                                06:00:23   \n",
       "5999                                13:52:48   \n",
       "\n",
       "     Tidspunkt_Planlagt_Ankomst_Holdeplass_Fra  \\\n",
       "0                                     10:53:00   \n",
       "1                                     13:12:00   \n",
       "2                                     10:19:00   \n",
       "3                                     13:51:00   \n",
       "4                                     07:33:00   \n",
       "...                                        ...   \n",
       "5995                                  16:10:00   \n",
       "5996                                  05:59:00   \n",
       "5997                                  17:32:00   \n",
       "5998                                  05:59:00   \n",
       "5999                                  13:50:00   \n",
       "\n",
       "     Tidspunkt_Planlagt_Avgang_Holdeplass_Fra  Kjøretøy_Kapasitet  \\\n",
       "0                                    10:53:00                 112   \n",
       "1                                    13:12:00                 112   \n",
       "2                                    10:19:00                 112   \n",
       "3                                    13:51:00                 112   \n",
       "4                                    07:33:00                 112   \n",
       "...                                       ...                 ...   \n",
       "5995                                 16:10:00                 151   \n",
       "5996                                 05:59:00                 151   \n",
       "5997                                 17:32:00                 106   \n",
       "5998                                 05:59:00                 151   \n",
       "5999                                 13:50:00                 105   \n",
       "\n",
       "      Passasjerer_Ombord  \n",
       "0                      5  \n",
       "1                      5  \n",
       "2                      6  \n",
       "3                     10  \n",
       "4                     10  \n",
       "...                  ...  \n",
       "5995                   2  \n",
       "5996                   2  \n",
       "5997                   3  \n",
       "5998                   5  \n",
       "5999                  -5  \n",
       "\n",
       "[6000 rows x 17 columns]"
      ]
     },
     "execution_count": 1,
     "metadata": {},
     "output_type": "execute_result"
    }
   ],
   "source": [
    "import pandas as pd\n",
    "from matplotlib import pyplot as plt\n",
    "data = pd.read_csv(\"../datasets/Ruter_data.csv\", delimiter=';')\n",
    "data"
   ]
  },
  {
   "cell_type": "markdown",
   "metadata": {},
   "source": [
    "We see that some entries are without a properly formatted arrival time, we need to remove these"
   ]
  },
  {
   "cell_type": "code",
   "execution_count": 2,
   "metadata": {},
   "outputs": [
    {
     "data": {
      "text/plain": [
       "(5950, 17)"
      ]
     },
     "execution_count": 2,
     "metadata": {},
     "output_type": "execute_result"
    }
   ],
   "source": [
    "# We remove entries without an arrival time\n",
    "data = data[data.Tidspunkt_Faktisk_Ankomst_Holdeplass_Fra != ':']\n",
    "data = data.reset_index(drop=True)\n",
    "data.shape"
   ]
  },
  {
   "cell_type": "markdown",
   "metadata": {},
   "source": [
    "We select only rows containing bus of type 100"
   ]
  },
  {
   "cell_type": "code",
   "execution_count": 3,
   "metadata": {},
   "outputs": [],
   "source": [
    "df = data[data.Linjenavn == '100'].reset_index(drop=True)"
   ]
  },
  {
   "cell_type": "markdown",
   "metadata": {},
   "source": [
    "With regression we need all axes to be numerical values, date therefore needs to be changed into a more workable datatype. We will change it to be represented as the number of days since the first entry in the set, first of june 2020 being the 0'th day.\n",
    "\n",
    "days since genesis : datestring -> days since 1st June 2020"
   ]
  },
  {
   "cell_type": "code",
   "execution_count": 4,
   "metadata": {},
   "outputs": [
    {
     "data": {
      "text/html": [
       "<div>\n",
       "<style scoped>\n",
       "    .dataframe tbody tr th:only-of-type {\n",
       "        vertical-align: middle;\n",
       "    }\n",
       "\n",
       "    .dataframe tbody tr th {\n",
       "        vertical-align: top;\n",
       "    }\n",
       "\n",
       "    .dataframe thead th {\n",
       "        text-align: right;\n",
       "    }\n",
       "</style>\n",
       "<table border=\"1\" class=\"dataframe\">\n",
       "  <thead>\n",
       "    <tr style=\"text-align: right;\">\n",
       "      <th></th>\n",
       "      <th>Passasjerer_Ombord</th>\n",
       "    </tr>\n",
       "    <tr>\n",
       "      <th>Day</th>\n",
       "      <th></th>\n",
       "    </tr>\n",
       "  </thead>\n",
       "  <tbody>\n",
       "    <tr>\n",
       "      <th>0</th>\n",
       "      <td>5.666667</td>\n",
       "    </tr>\n",
       "    <tr>\n",
       "      <th>1</th>\n",
       "      <td>6.333333</td>\n",
       "    </tr>\n",
       "    <tr>\n",
       "      <th>2</th>\n",
       "      <td>10.000000</td>\n",
       "    </tr>\n",
       "    <tr>\n",
       "      <th>3</th>\n",
       "      <td>7.375000</td>\n",
       "    </tr>\n",
       "    <tr>\n",
       "      <th>4</th>\n",
       "      <td>1.500000</td>\n",
       "    </tr>\n",
       "    <tr>\n",
       "      <th>...</th>\n",
       "      <td>...</td>\n",
       "    </tr>\n",
       "    <tr>\n",
       "      <th>86</th>\n",
       "      <td>15.400000</td>\n",
       "    </tr>\n",
       "    <tr>\n",
       "      <th>87</th>\n",
       "      <td>5.714286</td>\n",
       "    </tr>\n",
       "    <tr>\n",
       "      <th>88</th>\n",
       "      <td>5.714286</td>\n",
       "    </tr>\n",
       "    <tr>\n",
       "      <th>89</th>\n",
       "      <td>2.600000</td>\n",
       "    </tr>\n",
       "    <tr>\n",
       "      <th>90</th>\n",
       "      <td>1.875000</td>\n",
       "    </tr>\n",
       "  </tbody>\n",
       "</table>\n",
       "<p>90 rows × 1 columns</p>\n",
       "</div>"
      ],
      "text/plain": [
       "     Passasjerer_Ombord\n",
       "Day                    \n",
       "0              5.666667\n",
       "1              6.333333\n",
       "2             10.000000\n",
       "3              7.375000\n",
       "4              1.500000\n",
       "..                  ...\n",
       "86            15.400000\n",
       "87             5.714286\n",
       "88             5.714286\n",
       "89             2.600000\n",
       "90             1.875000\n",
       "\n",
       "[90 rows x 1 columns]"
      ]
     },
     "execution_count": 4,
     "metadata": {},
     "output_type": "execute_result"
    }
   ],
   "source": [
    "# We need to hard set a variable to the start of our time keeping\n",
    "genesis = pd.Timestamp(day = 1, month = 6, year = 2020)\n",
    "\n",
    "# We also define a helper lambda function to turn the string in to a tuple containing the year, month and day as integers\n",
    "date_to_dmy = lambda date : tuple(map(int, date.split('/')))\n",
    "\n",
    "def days_since_genesis(date) :\n",
    "    global genesis\n",
    "    dmy = date_to_dmy(date)\n",
    "    time = pd.Timestamp(day = dmy[0], month = dmy[1], year = dmy[2])\n",
    "    return (time - genesis).days\n",
    "\n",
    "# Insert the new day field\n",
    "df['Day'] = df['Dato'].apply(days_since_genesis)\n",
    "\n",
    "df = df[['Day', 'Passasjerer_Ombord']].groupby(by='Day').mean()\n",
    "df"
   ]
  },
  {
   "cell_type": "markdown",
   "metadata": {},
   "source": [
    "### Fitting"
   ]
  },
  {
   "cell_type": "code",
   "execution_count": 5,
   "metadata": {},
   "outputs": [],
   "source": [
    "x = df.index.values.reshape(-1, 1)\n",
    "y = df.iloc[:, -1]"
   ]
  },
  {
   "cell_type": "code",
   "execution_count": 6,
   "metadata": {},
   "outputs": [
    {
     "data": {
      "text/plain": [
       "LinearRegression()"
      ]
     },
     "execution_count": 6,
     "metadata": {},
     "output_type": "execute_result"
    }
   ],
   "source": [
    "from sklearn.preprocessing import PolynomialFeatures\n",
    "from sklearn.linear_model import LinearRegression\n",
    "\n",
    "# Linear model\n",
    "lin_reg = LinearRegression()\n",
    "lin_reg.fit(x, y)\n",
    "\n",
    "\n",
    "# 3rd degree polynomial model\n",
    "poly_feat = PolynomialFeatures(degree = 3)\n",
    "x_trans = poly_feat.fit_transform(x)\n",
    "pol_reg = LinearRegression()\n",
    "pol_reg.fit(x_trans, y)"
   ]
  },
  {
   "cell_type": "markdown",
   "metadata": {},
   "source": [
    "### Plotting"
   ]
  },
  {
   "cell_type": "code",
   "execution_count": 7,
   "metadata": {},
   "outputs": [
    {
     "data": {
      "image/png": "[encoded data removed]",
      "text/plain": [
       "<Figure size 1152x648 with 1 Axes>"
      ]
     },
     "metadata": {
      "needs_background": "light"
     },
     "output_type": "display_data"
    }
   ],
   "source": [
    "plt.style.use('bmh')\n",
    "plt.figure(figsize=(16, 9))\n",
    "plt.xlabel('Days since 1st June 2020')\n",
    "plt.ylabel('Average passengers on bus trip for bus 100')\n",
    "plt.scatter(x, y)\n",
    "plt.plot(x, lin_reg.predict(x))\n",
    "plt.plot(x, pol_reg.predict(x_trans))\n",
    "plt.legend(['Actual', 'Linear Prediction', 'Polynomial Prediction'])\n",
    "plt.show()"
   ]
  },
  {
   "cell_type": "markdown",
   "metadata": {},
   "source": [
    "### Predictions on arbitrary date"
   ]
  },
  {
   "cell_type": "code",
   "execution_count": 8,
   "metadata": {},
   "outputs": [],
   "source": [
    "# Functions that takes a date as a parameter and predicts number of passengers on the average bus trip that day\n",
    "# Date in the format 'dd/mm/yyyy'\n",
    "def predict(date) :\n",
    "    day = days_since_genesis(date)\n",
    "    return pol_reg.predict(poly_feat.fit_transform(([[day]])))[0]"
   ]
  },
  {
   "cell_type": "markdown",
   "metadata": {},
   "source": [
    "To test the prediction lets pick three dates, one in the past, one in the dataset and one in the future"
   ]
  },
  {
   "cell_type": "code",
   "execution_count": 9,
   "metadata": {},
   "outputs": [
    {
     "name": "stdout",
     "output_type": "stream",
     "text": [
      "5.79057158509006\n",
      "7.4797817829690025\n",
      "55.32682528838502\n"
     ]
    }
   ],
   "source": [
    "print(predict('17/05/2020'))\n",
    "print(predict('14/08/2020'))\n",
    "print(predict('24/12/2020'))"
   ]
  },
  {
   "cell_type": "markdown",
   "metadata": {},
   "source": [
    "We create a new dataframe containing the actual and predicted passengers on bus 100"
   ]
  },
  {
   "cell_type": "markdown",
   "metadata": {},
   "source": [
    "### Error in prediction"
   ]
  },
  {
   "cell_type": "markdown",
   "metadata": {},
   "source": [
    "The inbuilt method score will give us a measure of accuracy"
   ]
  },
  {
   "cell_type": "code",
   "execution_count": 10,
   "metadata": {},
   "outputs": [
    {
     "name": "stdout",
     "output_type": "stream",
     "text": [
      "Linear regression accuracy     0.392%\n",
      "Polynomial regression accuracy 0.604%\n"
     ]
    }
   ],
   "source": [
    "poly_score = pol_reg.score(x_trans, y)\n",
    "lin_score = lin_reg.score(x, y)\n",
    "print('Linear regression accuracy     {:.3}%'.format(lin_score * 100))\n",
    "print('Polynomial regression accuracy {:.3}%'.format(poly_score * 100))"
   ]
  },
  {
   "cell_type": "markdown",
   "metadata": {},
   "source": [
    "Meaning an error of"
   ]
  },
  {
   "cell_type": "code",
   "execution_count": 11,
   "metadata": {},
   "outputs": [
    {
     "name": "stdout",
     "output_type": "stream",
     "text": [
      "Linear regression error     99.6%\n",
      "Polynomial regerssion error 99.4%\n"
     ]
    }
   ],
   "source": [
    "print('Linear regression error     {:.3}%'.format((1 - lin_score) * 100))\n",
    "print('Polynomial regerssion error {:.3}%'.format((1 - poly_score) * 100))"
   ]
  },
  {
   "cell_type": "code",
   "execution_count": null,
   "metadata": {},
   "outputs": [],
   "source": []
  },
  {
   "cell_type": "code",
   "execution_count": null,
   "metadata": {},
   "outputs": [],
   "source": []
  }
 ],
 "metadata": {
  "kernelspec": {
   "display_name": "Python 3",
   "language": "python",
   "name": "python3"
  },
  "language_info": {
   "codemirror_mode": {
    "name": "ipython",
    "version": 3
   },
   "file_extension": ".py",
   "mimetype": "text/x-python",
   "name": "python",
   "nbconvert_exporter": "python",
   "pygments_lexer": "ipython3",
   "version": "3.8.5"
  }
 },
 "nbformat": 4,
 "nbformat_minor": 4
}
