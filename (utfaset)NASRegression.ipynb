{
 "cells": [
  {
   "cell_type": "markdown",
   "metadata": {},
   "source": [
    "# Predicting Norwegian airlines stock closing prices\n",
    "### Getting and preparing the data"
   ]
  },
  {
   "cell_type": "code",
   "execution_count": 1,
   "metadata": {},
   "outputs": [
    {
     "data": {
      "text/html": [
       "<div>\n",
       "<style scoped>\n",
       "    .dataframe tbody tr th:only-of-type {\n",
       "        vertical-align: middle;\n",
       "    }\n",
       "\n",
       "    .dataframe tbody tr th {\n",
       "        vertical-align: top;\n",
       "    }\n",
       "\n",
       "    .dataframe thead th {\n",
       "        text-align: right;\n",
       "    }\n",
       "</style>\n",
       "<table border=\"1\" class=\"dataframe\">\n",
       "  <thead>\n",
       "    <tr style=\"text-align: right;\">\n",
       "      <th></th>\n",
       "      <th>Date</th>\n",
       "      <th>Open</th>\n",
       "      <th>High</th>\n",
       "      <th>Low</th>\n",
       "      <th>Close</th>\n",
       "      <th>Adj Close</th>\n",
       "      <th>Volume</th>\n",
       "    </tr>\n",
       "  </thead>\n",
       "  <tbody>\n",
       "    <tr>\n",
       "      <th>0</th>\n",
       "      <td>2003-12-18</td>\n",
       "      <td>19.482599</td>\n",
       "      <td>19.596901</td>\n",
       "      <td>19.025499</td>\n",
       "      <td>19.139799</td>\n",
       "      <td>19.139799</td>\n",
       "      <td>4978496.0</td>\n",
       "    </tr>\n",
       "    <tr>\n",
       "      <th>1</th>\n",
       "      <td>2003-12-19</td>\n",
       "      <td>19.368299</td>\n",
       "      <td>19.425501</td>\n",
       "      <td>18.282801</td>\n",
       "      <td>18.454201</td>\n",
       "      <td>18.454201</td>\n",
       "      <td>1410901.0</td>\n",
       "    </tr>\n",
       "    <tr>\n",
       "      <th>2</th>\n",
       "      <td>2003-12-22</td>\n",
       "      <td>18.739901</td>\n",
       "      <td>18.739901</td>\n",
       "      <td>17.997101</td>\n",
       "      <td>18.054300</td>\n",
       "      <td>18.054300</td>\n",
       "      <td>137047.0</td>\n",
       "    </tr>\n",
       "    <tr>\n",
       "      <th>3</th>\n",
       "      <td>2003-12-23</td>\n",
       "      <td>17.997101</td>\n",
       "      <td>17.997101</td>\n",
       "      <td>17.368700</td>\n",
       "      <td>17.425800</td>\n",
       "      <td>17.425800</td>\n",
       "      <td>229418.0</td>\n",
       "    </tr>\n",
       "    <tr>\n",
       "      <th>4</th>\n",
       "      <td>2003-12-24</td>\n",
       "      <td>NaN</td>\n",
       "      <td>NaN</td>\n",
       "      <td>NaN</td>\n",
       "      <td>NaN</td>\n",
       "      <td>NaN</td>\n",
       "      <td>NaN</td>\n",
       "    </tr>\n",
       "    <tr>\n",
       "      <th>...</th>\n",
       "      <td>...</td>\n",
       "      <td>...</td>\n",
       "      <td>...</td>\n",
       "      <td>...</td>\n",
       "      <td>...</td>\n",
       "      <td>...</td>\n",
       "      <td>...</td>\n",
       "    </tr>\n",
       "    <tr>\n",
       "      <th>4248</th>\n",
       "      <td>2020-10-12</td>\n",
       "      <td>0.709000</td>\n",
       "      <td>0.710000</td>\n",
       "      <td>0.650000</td>\n",
       "      <td>0.676800</td>\n",
       "      <td>0.676800</td>\n",
       "      <td>48320475.0</td>\n",
       "    </tr>\n",
       "    <tr>\n",
       "      <th>4249</th>\n",
       "      <td>2020-10-13</td>\n",
       "      <td>0.676800</td>\n",
       "      <td>0.676800</td>\n",
       "      <td>0.600000</td>\n",
       "      <td>0.600600</td>\n",
       "      <td>0.600600</td>\n",
       "      <td>47786200.0</td>\n",
       "    </tr>\n",
       "    <tr>\n",
       "      <th>4250</th>\n",
       "      <td>2020-10-14</td>\n",
       "      <td>0.601000</td>\n",
       "      <td>0.640000</td>\n",
       "      <td>0.596200</td>\n",
       "      <td>0.626000</td>\n",
       "      <td>0.626000</td>\n",
       "      <td>37534949.0</td>\n",
       "    </tr>\n",
       "    <tr>\n",
       "      <th>4251</th>\n",
       "      <td>2020-10-15</td>\n",
       "      <td>0.626000</td>\n",
       "      <td>0.626000</td>\n",
       "      <td>0.585000</td>\n",
       "      <td>0.605000</td>\n",
       "      <td>0.605000</td>\n",
       "      <td>26737615.0</td>\n",
       "    </tr>\n",
       "    <tr>\n",
       "      <th>4252</th>\n",
       "      <td>2020-10-16</td>\n",
       "      <td>0.605000</td>\n",
       "      <td>0.620000</td>\n",
       "      <td>0.601000</td>\n",
       "      <td>0.610600</td>\n",
       "      <td>0.610600</td>\n",
       "      <td>15754218.0</td>\n",
       "    </tr>\n",
       "  </tbody>\n",
       "</table>\n",
       "<p>4253 rows × 7 columns</p>\n",
       "</div>"
      ],
      "text/plain": [
       "            Date       Open       High        Low      Close  Adj Close  \\\n",
       "0     2003-12-18  19.482599  19.596901  19.025499  19.139799  19.139799   \n",
       "1     2003-12-19  19.368299  19.425501  18.282801  18.454201  18.454201   \n",
       "2     2003-12-22  18.739901  18.739901  17.997101  18.054300  18.054300   \n",
       "3     2003-12-23  17.997101  17.997101  17.368700  17.425800  17.425800   \n",
       "4     2003-12-24        NaN        NaN        NaN        NaN        NaN   \n",
       "...          ...        ...        ...        ...        ...        ...   \n",
       "4248  2020-10-12   0.709000   0.710000   0.650000   0.676800   0.676800   \n",
       "4249  2020-10-13   0.676800   0.676800   0.600000   0.600600   0.600600   \n",
       "4250  2020-10-14   0.601000   0.640000   0.596200   0.626000   0.626000   \n",
       "4251  2020-10-15   0.626000   0.626000   0.585000   0.605000   0.605000   \n",
       "4252  2020-10-16   0.605000   0.620000   0.601000   0.610600   0.610600   \n",
       "\n",
       "          Volume  \n",
       "0      4978496.0  \n",
       "1      1410901.0  \n",
       "2       137047.0  \n",
       "3       229418.0  \n",
       "4            NaN  \n",
       "...          ...  \n",
       "4248  48320475.0  \n",
       "4249  47786200.0  \n",
       "4250  37534949.0  \n",
       "4251  26737615.0  \n",
       "4252  15754218.0  \n",
       "\n",
       "[4253 rows x 7 columns]"
      ]
     },
     "execution_count": 1,
     "metadata": {},
     "output_type": "execute_result"
    }
   ],
   "source": [
    "import pandas as pd\n",
    "from matplotlib import pyplot as plt\n",
    "data = pd.read_csv('../datasets/NAS.csv', delimiter=',')\n",
    "data"
   ]
  },
  {
   "cell_type": "markdown",
   "metadata": {},
   "source": [
    "We instantly see that some of the rows contain no values for price and volume, we need to exclude these.\n",
    "The simplest way of checking if a float is NaN, is to check if it equals itself. If it does not, it isn't a number.\n",
    "\n",
    "Some minor investigations show that if a number is not available for a datapoint in a row, all of them are NaN. Meaning we only have to check that one of the columns is NaN when removing those from the dataset. Lets arbitrary pick 'Open'"
   ]
  },
  {
   "cell_type": "code",
   "execution_count": 2,
   "metadata": {},
   "outputs": [],
   "source": [
    "clean_data = data[data.Open == data.Open]\n",
    "clean_data.reset_index(inplace=True, drop=True)"
   ]
  },
  {
   "cell_type": "markdown",
   "metadata": {},
   "source": [
    "With linear regression we need all axes to be numbers, date therefore needs to be changed into a more workable datatype. We will change it to be represented as the number of days since the first date entry in the set, 18th december 2003 being the 0'th day. To do that we need a simple function transforming a date string to a daynumber. \n",
    "\n",
    "days since genesis : datestring -> days since december 18th 2003"
   ]
  },
  {
   "cell_type": "code",
   "execution_count": 3,
   "metadata": {},
   "outputs": [],
   "source": [
    "# We need to hard set a variable to the start of our time keeping\n",
    "genesis = pd.Timestamp(day = 18, month = 12, year = 2003)\n",
    "\n",
    "# We define a helper lambda function to turn the string into a tuple containing the year, month and day as numbers\n",
    "date_to_ymd = lambda date : tuple(map(int, date.split('-')))\n",
    "\n",
    "def days_since_genesis(date) :\n",
    "    global genesis\n",
    "    ymd = date_to_ymd(date)\n",
    "    time = pd.Timestamp(day = ymd[2], month = ymd[1], year = ymd[0])\n",
    "    return (time - genesis).days"
   ]
  },
  {
   "cell_type": "markdown",
   "metadata": {},
   "source": [
    "We than need to insert the days field using the function defined above"
   ]
  },
  {
   "cell_type": "code",
   "execution_count": 4,
   "metadata": {},
   "outputs": [
    {
     "name": "stderr",
     "output_type": "stream",
     "text": [
      "<ipython-input-4-d92701ebfa6a>:1: SettingWithCopyWarning: \n",
      "A value is trying to be set on a copy of a slice from a DataFrame.\n",
      "Try using .loc[row_indexer,col_indexer] = value instead\n",
      "\n",
      "See the caveats in the documentation: https://pandas.pydata.org/pandas-docs/stable/user_guide/indexing.html#returning-a-view-versus-a-copy\n",
      "  clean_data['Day'] = clean_data['Date'].apply(days_since_genesis)\n"
     ]
    },
    {
     "data": {
      "text/html": [
       "<div>\n",
       "<style scoped>\n",
       "    .dataframe tbody tr th:only-of-type {\n",
       "        vertical-align: middle;\n",
       "    }\n",
       "\n",
       "    .dataframe tbody tr th {\n",
       "        vertical-align: top;\n",
       "    }\n",
       "\n",
       "    .dataframe thead th {\n",
       "        text-align: right;\n",
       "    }\n",
       "</style>\n",
       "<table border=\"1\" class=\"dataframe\">\n",
       "  <thead>\n",
       "    <tr style=\"text-align: right;\">\n",
       "      <th></th>\n",
       "      <th>Date</th>\n",
       "      <th>Open</th>\n",
       "      <th>High</th>\n",
       "      <th>Low</th>\n",
       "      <th>Close</th>\n",
       "      <th>Adj Close</th>\n",
       "      <th>Volume</th>\n",
       "      <th>Day</th>\n",
       "    </tr>\n",
       "  </thead>\n",
       "  <tbody>\n",
       "    <tr>\n",
       "      <th>0</th>\n",
       "      <td>2003-12-18</td>\n",
       "      <td>19.482599</td>\n",
       "      <td>19.596901</td>\n",
       "      <td>19.025499</td>\n",
       "      <td>19.139799</td>\n",
       "      <td>19.139799</td>\n",
       "      <td>4978496.0</td>\n",
       "      <td>0</td>\n",
       "    </tr>\n",
       "    <tr>\n",
       "      <th>1</th>\n",
       "      <td>2003-12-19</td>\n",
       "      <td>19.368299</td>\n",
       "      <td>19.425501</td>\n",
       "      <td>18.282801</td>\n",
       "      <td>18.454201</td>\n",
       "      <td>18.454201</td>\n",
       "      <td>1410901.0</td>\n",
       "      <td>1</td>\n",
       "    </tr>\n",
       "    <tr>\n",
       "      <th>2</th>\n",
       "      <td>2003-12-22</td>\n",
       "      <td>18.739901</td>\n",
       "      <td>18.739901</td>\n",
       "      <td>17.997101</td>\n",
       "      <td>18.054300</td>\n",
       "      <td>18.054300</td>\n",
       "      <td>137047.0</td>\n",
       "      <td>4</td>\n",
       "    </tr>\n",
       "    <tr>\n",
       "      <th>3</th>\n",
       "      <td>2003-12-23</td>\n",
       "      <td>17.997101</td>\n",
       "      <td>17.997101</td>\n",
       "      <td>17.368700</td>\n",
       "      <td>17.425800</td>\n",
       "      <td>17.425800</td>\n",
       "      <td>229418.0</td>\n",
       "      <td>5</td>\n",
       "    </tr>\n",
       "    <tr>\n",
       "      <th>4</th>\n",
       "      <td>2003-12-29</td>\n",
       "      <td>17.425800</td>\n",
       "      <td>17.425800</td>\n",
       "      <td>16.854500</td>\n",
       "      <td>17.254400</td>\n",
       "      <td>17.254400</td>\n",
       "      <td>196206.0</td>\n",
       "      <td>11</td>\n",
       "    </tr>\n",
       "    <tr>\n",
       "      <th>...</th>\n",
       "      <td>...</td>\n",
       "      <td>...</td>\n",
       "      <td>...</td>\n",
       "      <td>...</td>\n",
       "      <td>...</td>\n",
       "      <td>...</td>\n",
       "      <td>...</td>\n",
       "      <td>...</td>\n",
       "    </tr>\n",
       "    <tr>\n",
       "      <th>4213</th>\n",
       "      <td>2020-10-12</td>\n",
       "      <td>0.709000</td>\n",
       "      <td>0.710000</td>\n",
       "      <td>0.650000</td>\n",
       "      <td>0.676800</td>\n",
       "      <td>0.676800</td>\n",
       "      <td>48320475.0</td>\n",
       "      <td>6143</td>\n",
       "    </tr>\n",
       "    <tr>\n",
       "      <th>4214</th>\n",
       "      <td>2020-10-13</td>\n",
       "      <td>0.676800</td>\n",
       "      <td>0.676800</td>\n",
       "      <td>0.600000</td>\n",
       "      <td>0.600600</td>\n",
       "      <td>0.600600</td>\n",
       "      <td>47786200.0</td>\n",
       "      <td>6144</td>\n",
       "    </tr>\n",
       "    <tr>\n",
       "      <th>4215</th>\n",
       "      <td>2020-10-14</td>\n",
       "      <td>0.601000</td>\n",
       "      <td>0.640000</td>\n",
       "      <td>0.596200</td>\n",
       "      <td>0.626000</td>\n",
       "      <td>0.626000</td>\n",
       "      <td>37534949.0</td>\n",
       "      <td>6145</td>\n",
       "    </tr>\n",
       "    <tr>\n",
       "      <th>4216</th>\n",
       "      <td>2020-10-15</td>\n",
       "      <td>0.626000</td>\n",
       "      <td>0.626000</td>\n",
       "      <td>0.585000</td>\n",
       "      <td>0.605000</td>\n",
       "      <td>0.605000</td>\n",
       "      <td>26737615.0</td>\n",
       "      <td>6146</td>\n",
       "    </tr>\n",
       "    <tr>\n",
       "      <th>4217</th>\n",
       "      <td>2020-10-16</td>\n",
       "      <td>0.605000</td>\n",
       "      <td>0.620000</td>\n",
       "      <td>0.601000</td>\n",
       "      <td>0.610600</td>\n",
       "      <td>0.610600</td>\n",
       "      <td>15754218.0</td>\n",
       "      <td>6147</td>\n",
       "    </tr>\n",
       "  </tbody>\n",
       "</table>\n",
       "<p>4218 rows × 8 columns</p>\n",
       "</div>"
      ],
      "text/plain": [
       "            Date       Open       High        Low      Close  Adj Close  \\\n",
       "0     2003-12-18  19.482599  19.596901  19.025499  19.139799  19.139799   \n",
       "1     2003-12-19  19.368299  19.425501  18.282801  18.454201  18.454201   \n",
       "2     2003-12-22  18.739901  18.739901  17.997101  18.054300  18.054300   \n",
       "3     2003-12-23  17.997101  17.997101  17.368700  17.425800  17.425800   \n",
       "4     2003-12-29  17.425800  17.425800  16.854500  17.254400  17.254400   \n",
       "...          ...        ...        ...        ...        ...        ...   \n",
       "4213  2020-10-12   0.709000   0.710000   0.650000   0.676800   0.676800   \n",
       "4214  2020-10-13   0.676800   0.676800   0.600000   0.600600   0.600600   \n",
       "4215  2020-10-14   0.601000   0.640000   0.596200   0.626000   0.626000   \n",
       "4216  2020-10-15   0.626000   0.626000   0.585000   0.605000   0.605000   \n",
       "4217  2020-10-16   0.605000   0.620000   0.601000   0.610600   0.610600   \n",
       "\n",
       "          Volume   Day  \n",
       "0      4978496.0     0  \n",
       "1      1410901.0     1  \n",
       "2       137047.0     4  \n",
       "3       229418.0     5  \n",
       "4       196206.0    11  \n",
       "...          ...   ...  \n",
       "4213  48320475.0  6143  \n",
       "4214  47786200.0  6144  \n",
       "4215  37534949.0  6145  \n",
       "4216  26737615.0  6146  \n",
       "4217  15754218.0  6147  \n",
       "\n",
       "[4218 rows x 8 columns]"
      ]
     },
     "execution_count": 4,
     "metadata": {},
     "output_type": "execute_result"
    }
   ],
   "source": [
    "clean_data['Day'] = clean_data['Date'].apply(days_since_genesis)\n",
    "clean_data"
   ]
  },
  {
   "cell_type": "markdown",
   "metadata": {},
   "source": [
    "### Fitting"
   ]
  },
  {
   "cell_type": "code",
   "execution_count": 5,
   "metadata": {},
   "outputs": [],
   "source": [
    "x = clean_data.iloc[:, -1].values.reshape(-1, 1)\n",
    "y = clean_data.iloc[:, -3].values"
   ]
  },
  {
   "cell_type": "code",
   "execution_count": 6,
   "metadata": {},
   "outputs": [
    {
     "data": {
      "text/plain": [
       "LinearRegression()"
      ]
     },
     "execution_count": 6,
     "metadata": {},
     "output_type": "execute_result"
    }
   ],
   "source": [
    "from sklearn.preprocessing import PolynomialFeatures\n",
    "from sklearn.linear_model import LinearRegression\n",
    "\n",
    "# Linear model\n",
    "lin_reg = LinearRegression()\n",
    "lin_reg.fit(x, y)\n",
    "\n",
    "# 10th degree polynomial model\n",
    "poly_feat = PolynomialFeatures(degree = 10)\n",
    "x_trans = poly_feat.fit_transform(x)\n",
    "pol_reg = LinearRegression()\n",
    "pol_reg.fit(x_trans, y)"
   ]
  },
  {
   "cell_type": "markdown",
   "metadata": {},
   "source": [
    "### Plotting"
   ]
  },
  {
   "cell_type": "code",
   "execution_count": 7,
   "metadata": {},
   "outputs": [
    {
     "data": {
      "image/png": "[encoded data removed]",
      "text/plain": [
       "<Figure size 1152x648 with 1 Axes>"
      ]
     },
     "metadata": {
      "needs_background": "light"
     },
     "output_type": "display_data"
    }
   ],
   "source": [
    "plt.style.use('bmh')\n",
    "plt.figure(figsize=(16, 9))\n",
    "plt.xlabel('Days since 18th december 2003')\n",
    "plt.ylabel('Closing price (NOK)')\n",
    "plt.plot(clean_data.Day, clean_data.Close)\n",
    "plt.plot(clean_data.Day, lin_reg.predict(x))\n",
    "plt.plot(clean_data.Day, pol_reg.predict(x_trans))\n",
    "plt.legend(['Actual', 'Linear Prediction', 'Polynomial Prediction'])\n",
    "plt.title('Norwegian AS')\n",
    "plt.show()"
   ]
  },
  {
   "cell_type": "markdown",
   "metadata": {},
   "source": [
    "### Precictions on arbitrary date"
   ]
  },
  {
   "cell_type": "code",
   "execution_count": 8,
   "metadata": {},
   "outputs": [],
   "source": [
    "# Functions that takes a date as a parameter and predicts number of passengers on the average bus trip that day\n",
    "# Date in the format 'yyyy-mm-dd'\n",
    "def predict(date) :\n",
    "    day = days_since_genesis(date)\n",
    "    return pol_reg.predict(poly_feat.fit_transform(([[day]])))[0]"
   ]
  },
  {
   "cell_type": "markdown",
   "metadata": {},
   "source": [
    "To test the prediction lets pick three dates, one in the past, one in the dataset and one in the future"
   ]
  },
  {
   "cell_type": "code",
   "execution_count": 9,
   "metadata": {},
   "outputs": [
    {
     "name": "stdout",
     "output_type": "stream",
     "text": [
      "37.29095388270557\n",
      "37.701782833795775\n",
      "-4.3851357359479834\n"
     ]
    }
   ],
   "source": [
    "print(predict('2003-11-11'))\n",
    "print(predict('2007-08-04'))\n",
    "print(predict('2020-12-24'))"
   ]
  },
  {
   "cell_type": "markdown",
   "metadata": {},
   "source": [
    "### Error in prediction"
   ]
  },
  {
   "cell_type": "markdown",
   "metadata": {},
   "source": [
    "The inbuilt method score will give us a measure of accuracy"
   ]
  },
  {
   "cell_type": "code",
   "execution_count": 12,
   "metadata": {},
   "outputs": [
    {
     "name": "stdout",
     "output_type": "stream",
     "text": [
      "Linear regression accuracy     24.5%\n",
      "Polynomial regression accuracy 81.8%\n"
     ]
    }
   ],
   "source": [
    "poly_score = pol_reg.score(x_trans, y)\n",
    "lin_score = lin_reg.score(x, y)\n",
    "print('Linear regression accuracy     {:.3}%'.format(lin_score * 100))\n",
    "print('Polynomial regression accuracy {:.3}%'.format(poly_score * 100))"
   ]
  },
  {
   "cell_type": "markdown",
   "metadata": {},
   "source": [
    "Meaning an error of"
   ]
  },
  {
   "cell_type": "code",
   "execution_count": 11,
   "metadata": {},
   "outputs": [
    {
     "name": "stdout",
     "output_type": "stream",
     "text": [
      "Linear regression error     75.5%\n",
      "Polynomial regerssion error 18.2%\n"
     ]
    }
   ],
   "source": [
    "print('Linear regression error     {:.3}%'.format((1 - lin_score) * 100))\n",
    "print('Polynomial regerssion error {:.3}%'.format((1 - poly_score) * 100))"
   ]
  },
  {
   "cell_type": "code",
   "execution_count": null,
   "metadata": {},
   "outputs": [],
   "source": []
  }
 ],
 "metadata": {
  "kernelspec": {
   "display_name": "Python 3",
   "language": "python",
   "name": "python3"
  },
  "language_info": {
   "codemirror_mode": {
    "name": "ipython",
    "version": 3
   },
   "file_extension": ".py",
   "mimetype": "text/x-python",
   "name": "python",
   "nbconvert_exporter": "python",
   "pygments_lexer": "ipython3",
   "version": "3.8.5"
  }
 },
 "nbformat": 4,
 "nbformat_minor": 4
}
